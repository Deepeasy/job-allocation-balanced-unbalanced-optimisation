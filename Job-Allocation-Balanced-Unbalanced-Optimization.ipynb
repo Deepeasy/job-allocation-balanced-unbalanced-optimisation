{
 "cells": [
  {
   "cell_type": "code",
   "execution_count": 1,
   "id": "e4ae3e5b",
   "metadata": {
    "ExecuteTime": {
     "end_time": "2024-10-20T18:14:35.267284Z",
     "start_time": "2024-10-20T18:14:35.262285Z"
    }
   },
   "outputs": [],
   "source": [
    "from pulp import LpProblem, LpVariable, LpMinimize"
   ]
  },
  {
   "cell_type": "code",
   "execution_count": 2,
   "id": "8c28b928",
   "metadata": {
    "ExecuteTime": {
     "end_time": "2024-10-20T18:15:24.775399Z",
     "start_time": "2024-10-20T18:15:24.767078Z"
    }
   },
   "outputs": [],
   "source": [
    "no_of_jobs=3\n",
    "no_of_resources=3"
   ]
  },
  {
   "cell_type": "code",
   "execution_count": 9,
   "id": "573af358",
   "metadata": {
    "ExecuteTime": {
     "end_time": "2024-10-20T18:24:52.707883Z",
     "start_time": "2024-10-20T18:24:52.696870Z"
    }
   },
   "outputs": [],
   "source": [
    "# Define decision variables\n",
    "X = LpVariable.dicts(\"X\", [(i, j) for i in range(no_of_jobs) for j in range(no_of_resources)], cat='Binary')"
   ]
  },
  {
   "cell_type": "code",
   "execution_count": 5,
   "id": "8132e410",
   "metadata": {
    "ExecuteTime": {
     "end_time": "2024-10-20T18:18:42.277183Z",
     "start_time": "2024-10-20T18:18:42.270666Z"
    }
   },
   "outputs": [],
   "source": [
    "objective = 0\n",
    "costs = [\n",
    "    [19,28,31],\n",
    "    [11,17,16],\n",
    "    [12,15,13]\n",
    "]"
   ]
  },
  {
   "cell_type": "code",
   "execution_count": 8,
   "id": "b7ebf8d4",
   "metadata": {
    "ExecuteTime": {
     "end_time": "2024-10-20T18:23:35.568219Z",
     "start_time": "2024-10-20T18:23:35.519928Z"
    }
   },
   "outputs": [
    {
     "name": "stdout",
     "output_type": "stream",
     "text": [
      "Total Allocation cost: 49.00\n",
      "Optimal X(1, 1): 1.00\n",
      "Optimal X(1, 2): 0.00\n",
      "Optimal X(1, 3): 0.00\n",
      "Optimal X(2, 1): 0.00\n",
      "Optimal X(2, 2): 1.00\n",
      "Optimal X(2, 3): 0.00\n",
      "Optimal X(3, 1): 0.00\n",
      "Optimal X(3, 2): 0.00\n",
      "Optimal X(3, 3): 1.00\n"
     ]
    }
   ],
   "source": [
    "for i in range(no_of_jobs):\n",
    "    for j in range(no_of_resources):\n",
    "        objective += costs[i][j] * X[(i, j)]\n",
    "\n",
    "problem = LpProblem(\"Minimize_Transportation_Cost\", LpMinimize)\n",
    "problem.setObjective(objective)\n",
    "\n",
    "\n",
    "#Job constrains\n",
    "for i in range(no_of_jobs):\n",
    "    constraint_name = f\"Jobs_{i+1}_Capacity\"\n",
    "    constraint = sum(X[(i, j)] for j in range(no_of_resources)) <= 1\n",
    "    problem.addConstraint(constraint, name=constraint_name)\n",
    "\n",
    "# Resource constraints \n",
    "for j in range(no_of_resources):\n",
    "    constraint_name = f\"Resources_{j+1}_Demand\"\n",
    "    constraint = sum(X[(i, j)] for i in range(no_of_resources)) >= 1\n",
    "    problem.addConstraint(constraint, name=constraint_name)\n",
    "\n",
    "# Nonnegativity constraints\n",
    "for i in range(no_of_jobs):\n",
    "    for j in range(no_of_resources):\n",
    "        problem.addConstraint(X[(i, j)] >= 0, name=f\"NonNeg_{(i, j)}\")\n",
    "\n",
    "# Solve the problem\n",
    "problem.solve()\n",
    "\n",
    "# Print the solution (total cost)\n",
    "print(f\"Total Allocation cost: {problem.objective.value():.2f}\")\n",
    "\n",
    "for i in range(no_of_jobs):\n",
    "    for j in range(no_of_resources):\n",
    "        value = X[(i, j)].value()\n",
    "        print(f\"Optimal X({i+1}, {j+1}): {value:.2f}\")"
   ]
  },
  {
   "cell_type": "code",
   "execution_count": 13,
   "id": "5e8e6de1",
   "metadata": {
    "ExecuteTime": {
     "end_time": "2024-10-20T18:31:33.555956Z",
     "start_time": "2024-10-20T18:31:33.536423Z"
    }
   },
   "outputs": [],
   "source": [
    "import pulp as lp\n",
    "\n",
    "def minimize_allocation_cost(costs, no_of_jobs, no_of_resources):\n",
    "    \"\"\"\n",
    "    Minimize the allocation cost of jobs to resources using binary decision variables.\n",
    "\n",
    "    Parameters:\n",
    "    - costs: A 2D list where costs[i][j] represents the cost of assigning job i to resource j.\n",
    "    - no_of_jobs: The number of jobs.\n",
    "    - no_of_resources: The number of resources.\n",
    "\n",
    "    Returns:\n",
    "    - The optimal allocation and the minimum cost.\n",
    "    \"\"\"\n",
    "    \n",
    "    # Create the problem\n",
    "    problem = lp.LpProblem(\"Minimize_Allocation_Cost\", lp.LpMinimize)\n",
    "    \n",
    "    # Define binary decision variables X(i,j)\n",
    "    X = lp.LpVariable.dicts(\"X\", [(i, j) for i in range(no_of_jobs) for j in range(no_of_resources)], cat='Binary')\n",
    "    \n",
    "    # Objective function: Minimize total allocation cost\n",
    "    objective = lp.lpSum(costs[i][j] * X[(i, j)] for i in range(no_of_jobs) for j in range(no_of_resources))\n",
    "    problem.setObjective(objective)\n",
    "    \n",
    "    # Job constraints: Each job must be assigned to at most one resource\n",
    "    for i in range(no_of_jobs):\n",
    "        constraint_name = f\"Jobs_{i+1}_Capacity\"\n",
    "        constraint = lp.lpSum(X[(i, j)] for j in range(no_of_resources)) <= 1\n",
    "        problem += constraint, constraint_name\n",
    "    \n",
    "    # Resource constraints: Each resource must be assigned at least one job\n",
    "    for j in range(no_of_resources):\n",
    "        constraint_name = f\"Resources_{j+1}_Demand\"\n",
    "        constraint = lp.lpSum(X[(i, j)] for i in range(no_of_jobs)) >= 1\n",
    "        problem += constraint, constraint_name\n",
    "    \n",
    "    # Solve the problem\n",
    "    problem.solve()\n",
    "\n",
    "    # Print the results\n",
    "    print(f\"Status: {lp.LpStatus[problem.status]}\")\n",
    "    \n",
    "    # Print the total allocation cost\n",
    "    print(f\"Total Allocation cost: {lp.value(problem.objective):.2f}\")\n",
    "    \n",
    "    # Print the optimal allocation (X(i, j))\n",
    "    for i in range(no_of_jobs):\n",
    "        for j in range(no_of_resources):\n",
    "            value = X[(i, j)].varValue\n",
    "            if value > 0:\n",
    "                print(f\"Optimal X({i+1}, {j+1}): {value:.2f}\")\n",
    "    \n",
    "    return X, lp.value(problem.objective)\n",
    "\n"
   ]
  },
  {
   "cell_type": "code",
   "execution_count": 14,
   "id": "d54844f3",
   "metadata": {
    "ExecuteTime": {
     "end_time": "2024-10-20T18:31:37.900419Z",
     "start_time": "2024-10-20T18:31:37.857654Z"
    }
   },
   "outputs": [
    {
     "name": "stdout",
     "output_type": "stream",
     "text": [
      "Status: Optimal\n",
      "Total Allocation cost: 13.00\n",
      "Optimal X(1, 2): 1.00\n",
      "Optimal X(2, 3): 1.00\n",
      "Optimal X(3, 1): 1.00\n"
     ]
    },
    {
     "data": {
      "text/plain": [
       "({(0, 0): X_(0,_0),\n",
       "  (0, 1): X_(0,_1),\n",
       "  (0, 2): X_(0,_2),\n",
       "  (1, 0): X_(1,_0),\n",
       "  (1, 1): X_(1,_1),\n",
       "  (1, 2): X_(1,_2),\n",
       "  (2, 0): X_(2,_0),\n",
       "  (2, 1): X_(2,_1),\n",
       "  (2, 2): X_(2,_2)},\n",
       " 13.0)"
      ]
     },
     "execution_count": 14,
     "metadata": {},
     "output_type": "execute_result"
    }
   ],
   "source": [
    "\n",
    "# Example usage\n",
    "no_of_jobs = 3\n",
    "no_of_resources = 3\n",
    "costs = [\n",
    "    [4, 2, 7],\n",
    "    [3, 8, 5],\n",
    "    [6, 4, 9]\n",
    "]\n",
    "\n",
    "minimize_allocation_cost(costs, no_of_jobs, no_of_resources)"
   ]
  },
  {
   "cell_type": "code",
   "execution_count": 15,
   "id": "0fafa9e6",
   "metadata": {
    "ExecuteTime": {
     "end_time": "2024-10-20T18:31:45.691682Z",
     "start_time": "2024-10-20T18:31:45.656373Z"
    }
   },
   "outputs": [
    {
     "name": "stdout",
     "output_type": "stream",
     "text": [
      "Status: Optimal\n",
      "Total Allocation cost: 23.00\n",
      "Optimal X(1, 2): 1.00\n",
      "Optimal X(2, 1): 1.00\n",
      "Optimal X(3, 5): 1.00\n",
      "Optimal X(4, 3): 1.00\n",
      "Optimal X(5, 4): 1.00\n"
     ]
    },
    {
     "data": {
      "text/plain": [
       "({(0, 0): X_(0,_0),\n",
       "  (0, 1): X_(0,_1),\n",
       "  (0, 2): X_(0,_2),\n",
       "  (0, 3): X_(0,_3),\n",
       "  (0, 4): X_(0,_4),\n",
       "  (1, 0): X_(1,_0),\n",
       "  (1, 1): X_(1,_1),\n",
       "  (1, 2): X_(1,_2),\n",
       "  (1, 3): X_(1,_3),\n",
       "  (1, 4): X_(1,_4),\n",
       "  (2, 0): X_(2,_0),\n",
       "  (2, 1): X_(2,_1),\n",
       "  (2, 2): X_(2,_2),\n",
       "  (2, 3): X_(2,_3),\n",
       "  (2, 4): X_(2,_4),\n",
       "  (3, 0): X_(3,_0),\n",
       "  (3, 1): X_(3,_1),\n",
       "  (3, 2): X_(3,_2),\n",
       "  (3, 3): X_(3,_3),\n",
       "  (3, 4): X_(3,_4),\n",
       "  (4, 0): X_(4,_0),\n",
       "  (4, 1): X_(4,_1),\n",
       "  (4, 2): X_(4,_2),\n",
       "  (4, 3): X_(4,_3),\n",
       "  (4, 4): X_(4,_4)},\n",
       " 23.0)"
      ]
     },
     "execution_count": 15,
     "metadata": {},
     "output_type": "execute_result"
    }
   ],
   "source": [
    "#Problem 2...\n",
    "no_of_jobs=5\n",
    "no_of_resources=5\n",
    "costs=[[10,5,13,15,16],\n",
    "      [3,9,18,13,6],\n",
    "      [10,7,3,2,2],\n",
    "      [7,11,9,7,12],\n",
    "      [7,9,10,4,12]]\n",
    "\n",
    "minimize_allocation_cost(costs, no_of_jobs, no_of_resources)"
   ]
  },
  {
   "cell_type": "code",
   "execution_count": 16,
   "id": "8f86620d",
   "metadata": {
    "ExecuteTime": {
     "end_time": "2024-10-20T18:34:31.331785Z",
     "start_time": "2024-10-20T18:34:31.293365Z"
    }
   },
   "outputs": [
    {
     "name": "stdout",
     "output_type": "stream",
     "text": [
      "Status: Optimal\n",
      "Total Allocation cost: 18.00\n",
      "Optimal X(1, 3): 1.00\n",
      "Optimal X(2, 2): 1.00\n",
      "Optimal X(3, 1): 1.00\n",
      "Optimal X(4, 4): 1.00\n"
     ]
    },
    {
     "data": {
      "text/plain": [
       "({(0, 0): X_(0,_0),\n",
       "  (0, 1): X_(0,_1),\n",
       "  (0, 2): X_(0,_2),\n",
       "  (0, 3): X_(0,_3),\n",
       "  (1, 0): X_(1,_0),\n",
       "  (1, 1): X_(1,_1),\n",
       "  (1, 2): X_(1,_2),\n",
       "  (1, 3): X_(1,_3),\n",
       "  (2, 0): X_(2,_0),\n",
       "  (2, 1): X_(2,_1),\n",
       "  (2, 2): X_(2,_2),\n",
       "  (2, 3): X_(2,_3),\n",
       "  (3, 0): X_(3,_0),\n",
       "  (3, 1): X_(3,_1),\n",
       "  (3, 2): X_(3,_2),\n",
       "  (3, 3): X_(3,_3)},\n",
       " 18.0)"
      ]
     },
     "execution_count": 16,
     "metadata": {},
     "output_type": "execute_result"
    }
   ],
   "source": [
    "#Problem No 3\n",
    "no_of_jobs=4\n",
    "no_of_resources=4\n",
    "costs=[[4,7,5,6],\n",
    "      [1000,8,7,4],\n",
    "      [3,1000,5,3],\n",
    "      [6,6,4,2]]\n",
    "\n",
    "minimize_allocation_cost(costs, no_of_jobs, no_of_resources)"
   ]
  },
  {
   "cell_type": "code",
   "execution_count": 19,
   "id": "1189db5b",
   "metadata": {
    "ExecuteTime": {
     "end_time": "2024-10-20T18:44:24.403861Z",
     "start_time": "2024-10-20T18:44:24.392340Z"
    }
   },
   "outputs": [],
   "source": [
    "import pulp as lp\n",
    "\n",
    "def maximize_allocation_profits(profits, no_of_jobs, no_of_resources):\n",
    "    \"\"\"\n",
    "    Maximize the allocation profits of jobs to resources using binary decision variables.\n",
    "\n",
    "    Parameters:\n",
    "    - profits: A 2D list where profits[i][j] represents the profit of assigning job i to resource j.\n",
    "    - no_of_jobs: The number of jobs.\n",
    "    - no_of_resources: The number of resources.\n",
    "\n",
    "    Returns:\n",
    "    - The optimal allocation and the maximum profit.\n",
    "    \"\"\"\n",
    "    \n",
    "    # Create the problem\n",
    "    problem = lp.LpProblem(\"Maximize_Allocation_Profit\", lp.LpMaximize)\n",
    "    \n",
    "    # Define binary decision variables X(i,j)\n",
    "    X = lp.LpVariable.dicts(\"X\", [(i, j) for i in range(no_of_jobs) for j in range(no_of_resources)], cat='Binary')\n",
    "    \n",
    "    # Objective function: Maximize total allocation profit\n",
    "    objective = lp.lpSum(profits[i][j] * X[(i, j)] for i in range(no_of_jobs) for j in range(no_of_resources))\n",
    "    problem.setObjective(objective)\n",
    "    \n",
    "    # Job constraints: Each job must be assigned to at most one resource\n",
    "    for i in range(no_of_jobs):\n",
    "        constraint_name = f\"Jobs_{i+1}_Capacity\"\n",
    "        constraint = lp.lpSum(X[(i, j)] for j in range(no_of_resources)) <= 1\n",
    "        problem += constraint, constraint_name\n",
    "    \n",
    "    # Resource constraints: Each resource must be assigned at least one job\n",
    "    for j in range(no_of_resources):\n",
    "        constraint_name = f\"Resources_{j+1}_Demand\"\n",
    "        constraint = lp.lpSum(X[(i, j)] for i in range(no_of_jobs)) >= 1\n",
    "        problem += constraint, constraint_name\n",
    "    \n",
    "    # Solve the problem\n",
    "    problem.solve()\n",
    "\n",
    "    # Print the results\n",
    "    print(f\"Status: {lp.LpStatus[problem.status]}\")\n",
    "    \n",
    "    # Print the total allocation profit\n",
    "    print(f\"Total Allocation Profit: {lp.value(problem.objective):.2f}\")\n",
    "    \n",
    "    # Print the optimal allocation (X(i, j))\n",
    "    for i in range(no_of_jobs):\n",
    "        for j in range(no_of_resources):\n",
    "            value = X[(i, j)].varValue\n",
    "            if value > 0:\n",
    "                print(f\"Optimal X({i+1}, {j+1}): {value:.2f}\")\n",
    "    \n",
    "    return X, lp.value(problem.objective)"
   ]
  },
  {
   "cell_type": "code",
   "execution_count": 26,
   "id": "a9493c8d",
   "metadata": {
    "ExecuteTime": {
     "end_time": "2024-10-20T18:54:46.567607Z",
     "start_time": "2024-10-20T18:54:46.538345Z"
    }
   },
   "outputs": [
    {
     "name": "stdout",
     "output_type": "stream",
     "text": [
      "Status: Optimal\n",
      "Total Allocation Profit: 66.00\n",
      "Optimal X(1, 3): 1.00\n",
      "Optimal X(2, 4): 1.00\n",
      "Optimal X(3, 5): 1.00\n",
      "Optimal X(4, 2): 1.00\n",
      "Optimal X(5, 6): 1.00\n",
      "Optimal X(6, 1): 1.00\n"
     ]
    },
    {
     "data": {
      "text/plain": [
       "({(0, 0): X_(0,_0),\n",
       "  (0, 1): X_(0,_1),\n",
       "  (0, 2): X_(0,_2),\n",
       "  (0, 3): X_(0,_3),\n",
       "  (0, 4): X_(0,_4),\n",
       "  (0, 5): X_(0,_5),\n",
       "  (1, 0): X_(1,_0),\n",
       "  (1, 1): X_(1,_1),\n",
       "  (1, 2): X_(1,_2),\n",
       "  (1, 3): X_(1,_3),\n",
       "  (1, 4): X_(1,_4),\n",
       "  (1, 5): X_(1,_5),\n",
       "  (2, 0): X_(2,_0),\n",
       "  (2, 1): X_(2,_1),\n",
       "  (2, 2): X_(2,_2),\n",
       "  (2, 3): X_(2,_3),\n",
       "  (2, 4): X_(2,_4),\n",
       "  (2, 5): X_(2,_5),\n",
       "  (3, 0): X_(3,_0),\n",
       "  (3, 1): X_(3,_1),\n",
       "  (3, 2): X_(3,_2),\n",
       "  (3, 3): X_(3,_3),\n",
       "  (3, 4): X_(3,_4),\n",
       "  (3, 5): X_(3,_5),\n",
       "  (4, 0): X_(4,_0),\n",
       "  (4, 1): X_(4,_1),\n",
       "  (4, 2): X_(4,_2),\n",
       "  (4, 3): X_(4,_3),\n",
       "  (4, 4): X_(4,_4),\n",
       "  (4, 5): X_(4,_5),\n",
       "  (5, 0): X_(5,_0),\n",
       "  (5, 1): X_(5,_1),\n",
       "  (5, 2): X_(5,_2),\n",
       "  (5, 3): X_(5,_3),\n",
       "  (5, 4): X_(5,_4),\n",
       "  (5, 5): X_(5,_5)},\n",
       " 66.0)"
      ]
     },
     "execution_count": 26,
     "metadata": {},
     "output_type": "execute_result"
    }
   ],
   "source": [
    "#Home assignment 1..As 3 jobs for 6 presses are there we add balance profits for zero\n",
    "\n",
    "no_of_jobs = 6\n",
    "no_of_resources = 6\n",
    "\n",
    "profits = [\n",
    "    [12,17,22,19,17,18],\n",
    "    [21,19,20,23,20,14],\n",
    "    [20,21,20,22,21,17],\n",
    "    [0,0,0,0,0,0],\n",
    "    [0,0,0,0,0,0],\n",
    "    [0,0,0,0,0,0]\n",
    "]\n",
    "\n",
    "maximize_allocation_profits(profits, no_of_jobs, no_of_resources)"
   ]
  },
  {
   "cell_type": "code",
   "execution_count": 28,
   "id": "749b92f7",
   "metadata": {
    "ExecuteTime": {
     "end_time": "2024-10-20T18:57:53.820016Z",
     "start_time": "2024-10-20T18:57:53.760214Z"
    }
   },
   "outputs": [
    {
     "name": "stdout",
     "output_type": "stream",
     "text": [
      "Status: Optimal\n",
      "Total Allocation cost: 14.00\n",
      "Optimal X(1, 4): 1.00\n",
      "Optimal X(2, 3): 1.00\n",
      "Optimal X(3, 2): 1.00\n",
      "Optimal X(4, 1): 1.00\n",
      "Status: Optimal\n",
      "Total Allocation cost: 8.00\n",
      "Optimal X(1, 4): 1.00\n",
      "Optimal X(2, 3): 1.00\n",
      "Optimal X(3, 5): 1.00\n",
      "Optimal X(4, 2): 1.00\n",
      "Optimal X(5, 1): 1.00\n"
     ]
    },
    {
     "data": {
      "text/plain": [
       "({(0, 0): X_(0,_0),\n",
       "  (0, 1): X_(0,_1),\n",
       "  (0, 2): X_(0,_2),\n",
       "  (0, 3): X_(0,_3),\n",
       "  (0, 4): X_(0,_4),\n",
       "  (1, 0): X_(1,_0),\n",
       "  (1, 1): X_(1,_1),\n",
       "  (1, 2): X_(1,_2),\n",
       "  (1, 3): X_(1,_3),\n",
       "  (1, 4): X_(1,_4),\n",
       "  (2, 0): X_(2,_0),\n",
       "  (2, 1): X_(2,_1),\n",
       "  (2, 2): X_(2,_2),\n",
       "  (2, 3): X_(2,_3),\n",
       "  (2, 4): X_(2,_4),\n",
       "  (3, 0): X_(3,_0),\n",
       "  (3, 1): X_(3,_1),\n",
       "  (3, 2): X_(3,_2),\n",
       "  (3, 3): X_(3,_3),\n",
       "  (3, 4): X_(3,_4),\n",
       "  (4, 0): X_(4,_0),\n",
       "  (4, 1): X_(4,_1),\n",
       "  (4, 2): X_(4,_2),\n",
       "  (4, 3): X_(4,_3),\n",
       "  (4, 4): X_(4,_4)},\n",
       " 8.0)"
      ]
     },
     "execution_count": 28,
     "metadata": {},
     "output_type": "execute_result"
    }
   ],
   "source": [
    "#Home assignment 2\n",
    "\n",
    "no_of_jobs=4\n",
    "no_of_resources=4\n",
    "\n",
    "costs=[[5,5,1000,2],\n",
    "      [7,4,2,3],\n",
    "      [9,3,5,1000],\n",
    "      [7,2,6,7]]\n",
    "\n",
    "minimize_allocation_cost(costs,no_of_jobs,no_of_resources)\n",
    "\n",
    "#If 5 th machine is available then we add zero cost\n",
    "\n",
    "no_of_jobs=5\n",
    "no_of_resources=5\n",
    "\n",
    "costs=[[5,5,1000,2,0],\n",
    "      [7,4,2,3,0],\n",
    "      [9,3,5,1000,0],\n",
    "      [7,2,6,7,0],\n",
    "      [2,1,2,8,0]]\n",
    "\n",
    "minimize_allocation_cost(costs,no_of_jobs,no_of_resources)\n"
   ]
  },
  {
   "cell_type": "code",
   "execution_count": 29,
   "id": "49d3f26e",
   "metadata": {
    "ExecuteTime": {
     "end_time": "2024-10-20T19:00:01.633939Z",
     "start_time": "2024-10-20T19:00:01.590022Z"
    }
   },
   "outputs": [
    {
     "name": "stdout",
     "output_type": "stream",
     "text": [
      "Status: Optimal\n",
      "Total Allocation cost: 13.00\n",
      "Optimal X(1, 3): 1.00\n",
      "Optimal X(2, 5): 1.00\n",
      "Optimal X(3, 4): 1.00\n",
      "Optimal X(4, 2): 1.00\n",
      "Optimal X(5, 1): 1.00\n"
     ]
    },
    {
     "data": {
      "text/plain": [
       "({(0, 0): X_(0,_0),\n",
       "  (0, 1): X_(0,_1),\n",
       "  (0, 2): X_(0,_2),\n",
       "  (0, 3): X_(0,_3),\n",
       "  (0, 4): X_(0,_4),\n",
       "  (1, 0): X_(1,_0),\n",
       "  (1, 1): X_(1,_1),\n",
       "  (1, 2): X_(1,_2),\n",
       "  (1, 3): X_(1,_3),\n",
       "  (1, 4): X_(1,_4),\n",
       "  (2, 0): X_(2,_0),\n",
       "  (2, 1): X_(2,_1),\n",
       "  (2, 2): X_(2,_2),\n",
       "  (2, 3): X_(2,_3),\n",
       "  (2, 4): X_(2,_4),\n",
       "  (3, 0): X_(3,_0),\n",
       "  (3, 1): X_(3,_1),\n",
       "  (3, 2): X_(3,_2),\n",
       "  (3, 3): X_(3,_3),\n",
       "  (3, 4): X_(3,_4),\n",
       "  (4, 0): X_(4,_0),\n",
       "  (4, 1): X_(4,_1),\n",
       "  (4, 2): X_(4,_2),\n",
       "  (4, 3): X_(4,_3),\n",
       "  (4, 4): X_(4,_4)},\n",
       " 13.0)"
      ]
     },
     "execution_count": 29,
     "metadata": {},
     "output_type": "execute_result"
    }
   ],
   "source": [
    "#Home assignment 3\n",
    "no_of_jobs=5\n",
    "no_of_resources=5\n",
    "costs=[[2,9,2,7,1],\n",
    "      [6,8,7,6,1],\n",
    "      [4,6,5,3,1],\n",
    "      [4,2,7,3,1],\n",
    "      [5,3,9,5,1]]\n",
    "\n",
    "minimize_allocation_cost(costs,no_of_jobs,no_of_resources)"
   ]
  },
  {
   "cell_type": "code",
   "execution_count": 30,
   "id": "65d4a3e3",
   "metadata": {
    "ExecuteTime": {
     "end_time": "2024-10-20T19:02:04.535047Z",
     "start_time": "2024-10-20T19:02:04.454190Z"
    }
   },
   "outputs": [
    {
     "name": "stdout",
     "output_type": "stream",
     "text": [
      "Status: Optimal\n",
      "Total Allocation cost: 49.00\n",
      "Optimal X(1, 1): 1.00\n",
      "Optimal X(2, 2): 1.00\n",
      "Optimal X(3, 3): 1.00\n",
      "Status: Optimal\n",
      "Total Allocation Profit: 60.00\n",
      "Optimal X(1, 3): 1.00\n",
      "Optimal X(2, 2): 1.00\n",
      "Optimal X(3, 1): 1.00\n"
     ]
    },
    {
     "data": {
      "text/plain": [
       "({(0, 0): X_(0,_0),\n",
       "  (0, 1): X_(0,_1),\n",
       "  (0, 2): X_(0,_2),\n",
       "  (1, 0): X_(1,_0),\n",
       "  (1, 1): X_(1,_1),\n",
       "  (1, 2): X_(1,_2),\n",
       "  (2, 0): X_(2,_0),\n",
       "  (2, 1): X_(2,_1),\n",
       "  (2, 2): X_(2,_2)},\n",
       " 60.0)"
      ]
     },
     "execution_count": 30,
     "metadata": {},
     "output_type": "execute_result"
    }
   ],
   "source": [
    "#Home assignment 4\n",
    "\n",
    "no_of_jobs=3\n",
    "no_of_resources=3\n",
    "costs=[[19,28,31],\n",
    "      [11,17,16],\n",
    "      [12,15,13]]\n",
    "profits=costs\n",
    "\n",
    "minimize_allocation_cost(costs,no_of_jobs,no_of_resources)\n",
    "\n",
    "maximize_allocation_profits(profits, no_of_jobs, no_of_resources)"
   ]
  },
  {
   "cell_type": "code",
   "execution_count": 32,
   "id": "6b3d0256",
   "metadata": {
    "ExecuteTime": {
     "end_time": "2024-10-20T19:05:14.706372Z",
     "start_time": "2024-10-20T19:05:14.675250Z"
    }
   },
   "outputs": [
    {
     "name": "stdout",
     "output_type": "stream",
     "text": [
      "Status: Optimal\n",
      "Total Allocation cost: 45.00\n",
      "Optimal X(1, 3): 1.00\n",
      "Optimal X(2, 2): 1.00\n",
      "Optimal X(3, 1): 1.00\n",
      "Optimal X(4, 4): 1.00\n",
      "Optimal X(5, 5): 1.00\n"
     ]
    },
    {
     "data": {
      "text/plain": [
       "({(0, 0): X_(0,_0),\n",
       "  (0, 1): X_(0,_1),\n",
       "  (0, 2): X_(0,_2),\n",
       "  (0, 3): X_(0,_3),\n",
       "  (0, 4): X_(0,_4),\n",
       "  (1, 0): X_(1,_0),\n",
       "  (1, 1): X_(1,_1),\n",
       "  (1, 2): X_(1,_2),\n",
       "  (1, 3): X_(1,_3),\n",
       "  (1, 4): X_(1,_4),\n",
       "  (2, 0): X_(2,_0),\n",
       "  (2, 1): X_(2,_1),\n",
       "  (2, 2): X_(2,_2),\n",
       "  (2, 3): X_(2,_3),\n",
       "  (2, 4): X_(2,_4),\n",
       "  (3, 0): X_(3,_0),\n",
       "  (3, 1): X_(3,_1),\n",
       "  (3, 2): X_(3,_2),\n",
       "  (3, 3): X_(3,_3),\n",
       "  (3, 4): X_(3,_4),\n",
       "  (4, 0): X_(4,_0),\n",
       "  (4, 1): X_(4,_1),\n",
       "  (4, 2): X_(4,_2),\n",
       "  (4, 3): X_(4,_3),\n",
       "  (4, 4): X_(4,_4)},\n",
       " 45.0)"
      ]
     },
     "execution_count": 32,
     "metadata": {},
     "output_type": "execute_result"
    }
   ],
   "source": [
    "no_of_jobs=5\n",
    "no_of_resources=5\n",
    "costs=[[3,5,10,15,8],\n",
    "      [4,7,15,18,8],\n",
    "      [8,12,20,20,12],\n",
    "      [5,5,8,10,6],\n",
    "      [10,10,15,25,10]]\n",
    "\n",
    "minimize_allocation_cost(costs,no_of_jobs,no_of_resources)"
   ]
  },
  {
   "cell_type": "code",
   "execution_count": null,
   "id": "dc7c7532",
   "metadata": {},
   "outputs": [],
   "source": []
  }
 ],
 "metadata": {
  "kernelspec": {
   "display_name": "Python 3 (ipykernel)",
   "language": "python",
   "name": "python3"
  },
  "language_info": {
   "codemirror_mode": {
    "name": "ipython",
    "version": 3
   },
   "file_extension": ".py",
   "mimetype": "text/x-python",
   "name": "python",
   "nbconvert_exporter": "python",
   "pygments_lexer": "ipython3",
   "version": "3.9.18"
  }
 },
 "nbformat": 4,
 "nbformat_minor": 5
}
